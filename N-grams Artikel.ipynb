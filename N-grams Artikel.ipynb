{
 "cells": [
  {
   "cell_type": "code",
   "execution_count": 17,
   "metadata": {},
   "outputs": [
    {
     "name": "stdout",
     "output_type": "stream",
     "text": [
      "['Sebanyak', 'jenazah', 'korban', 'Lion', 'Air', 'jatuh', 'berhasil', 'diidentifikasi', 'kembali', 'oleh', 'Tim', 'DVI', 'Disaster', 'Victim', 'Identification', 'di', 'RS', 'Bhayangkara', 'Polri', 'Dengan', 'demikian', 'total', 'jenazah', 'yang', 'teridentifikasi', 'berjumlah', 'korban', 'Malam', 'ini', 'kami', 'berhasil', 'identifikasi', 'lebih', 'dari', 'penumpang', 'berdasarkan', 'hasil', 'sidang', 'rekonsiliasi', 'sore', 'hari', 'ini', 'kata', 'Komandan', 'DVI', 'Kombes', 'Pol', 'Lisda', 'Cancer', 'di', 'RS', 'Polri', 'Jakarta', 'Timur', 'Senin', 'Lisda', 'menjelaskan', 'penyerahan', 'jenazah', 'korban', 'Lion', 'Air', 'kepada', 'keluarga', 'akan', 'dilakukan', 'malam', 'ini', 'juga', 'Penyerahan', 'tersebut', 'akan', 'dilakukan', 'secara', 'simbolis', 'melalui', 'pemberian', 'dokumen', 'Kalau', 'keluarga', 'belum', 'siap', 'menerima', 'jenazah', 'bisa', 'dititipkan', 'malam', 'ini', 'yang', 'penting', 'dokumen', 'diserahkan', 'dulu', 'ke', 'keluarga', 'ujar', 'dia', 'Selain', 'itu', 'Kepala', 'Laboratorium', 'DNA', 'Pusdokkes', 'Kombes', 'Putut', 'Cahyo', 'Widodo', 'mengatakan', 'RS', 'Polri', 'sudah', 'mendapatkan', 'sebanyak', 'sampel', 'postmortem', 'DNA', 'Dari', 'kantong', 'jenazah', 'kami', 'mendapatkan', 'isinya', 'bagian', 'bagian', 'tubuh', 'korban', 'Lion', 'Air', 'Pada', 'prinsipnya', 'setiap', 'bagian', 'tubuh', 'mewakili', 'individu', 'sehingga', 'semuanya', 'kita', 'ambil', 'Nah', 'kami', 'mendapatkan', 'bagian', 'bagian', 'tubuh', 'itu', 'sebanyak', 'Putut', 'menuturkan', 'Tim', 'Disaster', 'Victim', 'Investigation', 'DVI', 'Polri', 'mengidentifikasi', 'jenazah', 'penumpang', 'Lion', 'Air', 'PK', 'LQP', 'yang', 'jatuh', 'di', 'perairan', 'Karawang', 'Jawa', 'Barat', 'Dengan', 'tambahan', 'jenazah', 'itu', 'total', 'jenazah', 'yang', 'teridentifikasi', 'orang', 'Malam', 'ini', 'kita', 'akan', 'bacakan', 'hasil', 'rekonsiliasi', 'pada', 'hari', 'ini', 'Senin', 'November', 'pukul', 'WIB', 'di', 'RS', 'Polri', 'berdasarkan', 'sidang', 'khusus', 'di', 'RS', 'Polri', 'Tim', 'DVI', 'berhasil', 'identifikasi', 'kembali', 'ujar', 'Kepala', 'Operasi', 'Tim', 'DVI', 'Kombes', 'Lisda', 'Cancer', 'di', 'RS', 'Polri', 'Kramat', 'Jati', 'Jakarta', 'Timur', 'Senin', 'Masing', 'masing', 'jenazah', 'teridentifikasi', 'melalui', 'pemeriksaan', 'DNA', 'dan', 'sidik', 'jari', 'korban', 'Lion', 'Air', 'dengan', 'nomor', 'penerbangan', 'JT', 'Berikut', 'nama', 'nama', 'korban', 'yang', 'teridentifikasi', 'Reni', 'Aryanti', 'perempuan', 'usia', 'tahun', 'melalui', 'pemeriksaan', 'DNA', 'Muhammad', 'Ravi', 'Andrian', 'laki', 'laki', 'usia', 'tahun', 'melalui', 'pemeriksaan', 'DNA', 'Eryanto', 'laki', 'laki', 'usia', 'tahun', 'melalui', 'pemeriksaan', 'DNA', 'Vera', 'Junita', 'perempuan', 'usia', 'tahun', 'melalui', 'pemeriksaan', 'DNA', 'Resti', 'Amelia', 'perempuan', 'usia', 'tahun', 'melalui', 'pemeriksaan', 'DNA', 'Fifi', 'Hajanto', 'perempuan', 'usia', 'tahun', 'melalui', 'pemeriksaan', 'DNA', 'Dede', 'Anggraini', 'perempuan', 'usia', 'tahun', 'melalui', 'pemeriksaan', 'DNA', 'Petrous', 'Rudolf', 'Sayers', 'laki', 'laki', 'usia', 'tahun', 'melalui', 'sidik', 'jari', 'Eka', 'Suganda', 'laki', 'laki', 'usia', 'tahun', 'melalui', 'sidik', 'jari', 'Niar', 'R', 'Soegiyono', 'perempuan', 'usia', 'tahun', 'melalui', 'sidik', 'jari', 'Sudibyo', 'Onggo', 'Wardoyo', 'laki', 'laki', 'usia', 'tahun', 'melalui', 'sidik', 'jari', 'Hendra', 'laki', 'laki', 'usia', 'tahun', 'melalui', 'pemeriksaan', 'DNA', 'Mito', 'laki', 'laki', 'usia', 'tahun', 'melalui', 'sidik', 'jari', 'Salah', 'satu', 'bagian', 'kotak', 'hitam', 'atau', 'black', 'box', 'pesawat', 'Lion', 'Air', 'PK', 'LQP', 'belum', 'ditemukan', 'Bagian', 'kotak', 'hitam', 'itu', 'berupa', 'cockpit', 'voice', 'recorder', 'CVR', 'yang', 'merekam', 'komunikasi', 'di', 'dalam', 'kokpit', 'hingga', 'antara', 'kokpit', 'dan', 'pemandu', 'lalu', 'lintas', 'udara', 'atau', 'air', 'traffic', 'control', 'ATC', 'Dalam', 'kasus', 'ini', 'CVR', 'sangat', 'penting', 'karena', 'untuk', 'mengungkap', 'secara', 'tepat', 'secara', 'pasti', 'maka', 'informasi', 'yang', 'ada', 'di', 'CVR', 'itu', 'akan', 'sangat', 'kita', 'butuhkan', 'Maka', 'demi', 'kelengkapan', 'proses', 'investigasi', 'dan', 'kami', 'juga', 'akan', 'berusaha', 'semaksimal', 'mungkin', 'untuk', 'tetap', 'menemukan', 'meskipun', 'kalau', 'nantinya', 'tidak', 'kita', 'temukan', 'data', 'yang', 'ada', 'akan', 'tetap', 'kita', 'proses', 'ucap', 'Ketua', 'KNKT', 'Soerjanto', 'Tjahjono', 'dalam', 'konferensi', 'pers', 'di', 'kantornya', 'Jalan', 'Medan', 'Merdeka', 'Timur', 'Jakarta', 'Pusat', 'Senin', 'Saat', 'ini', 'menurut', 'Soerjanto', 'sinyal', 'CVR', 'sudah', 'tidak', 'terdeteksi', 'Namun', 'hal', 'itu', 'tidak', 'menyurutkan', 'pencarian', 'Ya', 'sekarang', 'pun', 'kita', 'sudah', 'tak', 'mendengar', 'sinyalnya', 'Jadi', 'dengan', 'metode', 'apa', 'pun', 'kita', 'akan', 'cari', 'CVR', 'itu', 'Nanti', 'meski', 'Basarnas', 'berhenti', 'kami', 'akan', 'cari', 'CVR', 'karena', 'paling', 'penting', 'yang', 'masih', 'kita', 'cari', 'CVR', 'ujar', 'Soerjanto', 'Sementara', 'itu', 'selain', 'penemuan', 'FDR', 'hari', 'ini', 'KNKT', 'mengambil', 'tiga', 'bagian', 'pesawat', 'yang', 'tiba', 'di', 'JICT', 'Tanjung', 'Priok', 'Ketiga', 'benda', 'itu', 'adalah', 'roda', 'pesawat', 'emergency', 'locator', 'transmitted', 'ELT', 'dan', 'flight', 'direction', 'Ketiga', 'benda', 'itu', 'akan', 'disimpan', 'sementara', 'di', 'Balai', 'Teknologi', 'Keselamatan', 'Pelayaran', 'BTKP', 'PLTU', 'Jakarta', 'Utara', 'Tim', 'KNKT', 'akan', 'berfokus', 'pada', 'FDR', 'dan', 'CVR', 'lebih', 'dulu', 'Baca', 'juga', 'Kata', 'KNKT', 'soal', 'Apa', 'yang', 'Terjadi', 'Saat', 'Airspeed', 'Indicator', 'Pesawat', 'Rusak', 'Dibawa', 'ke', 'BTKP', 'Kalijapat', 'sementara', 'di', 'situ', 'dulu', 'ujar', 'investigator', 'KNKT', 'Ardi', 'Gunawan', 'Selain', 'itu', 'Dansatgas', 'SAR', 'Kolonel', 'Laut', 'P', 'Isswarto', 'mengatakan', 'tim', 'penyelam', 'selalu', 'bersiaga', 'untuk', 'membantu', 'pencarian', 'Selain', 'itu', 'menurutnya', 'pencarian', 'dilakukan', 'menggunakan', 'kapal', 'survei', 'milik', 'Pertamina', 'Victory', 'Area', 'pencarian', 'difokuskan', 'tak', 'jauh', 'dari', 'titik', 'jatuhnya', 'pesawat', 'di', 'koordinat', 'derajat', 'menit', 'detik', 'South', 'derajat', 'menit', 'detik', 'East', 'Tim', 'yang', 'mencari', 'juga', 'membawa', 'ping', 'locator', 'Bagaimana', 'kita', 'sudah', 'membuat', 'area', 'sekitar', 'meter', 'dari', 'pusat', 'atau', 'dari', 'Victory', 'untuk', 'titik', 'pencarian', 'Yang', 'pertama', 'untuk', 'menjadi', 'objek', 'adalah', 'VCR', 'Sampai', 'sekarang', 'kita', 'sudah', 'membawa', 'ping', 'locator', 'untuk', 'mendeteksi', 'adanya', 'VCR', 'tersebut', 'ujarnya', 'Kabasarnas', 'Marsekal', 'Madya', 'M', 'Syaugi', 'tak', 'kuasa', 'menahan', 'tangis', 'saat', 'berhadapan', 'dengan', 'keluarga', 'korban', 'jatuhnya', 'Lion', 'Air', 'PK', 'LQP', 'di', 'perairan', 'Karawang', 'Air', 'matanya', 'pun', 'menetes', 'Terima', 'kasih', 'kepada', 'Bapak', 'Ibu', 'sekalian', 'yang', 'begitu', 'perhatian', 'dengan', 'kami', 'khususnya', 'tim', 'SAR', 'gabungan', 'Kami', 'memahami', 'kami', 'bukan', 'manusia', 'super', 'yang', 'sempurna', 'Kami', 'tetap', 'berusaha', 'sekuat', 'tenaga', 'Dengan', 'apa', 'yang', 'kami', 'miliki', 'kami', 'yakin', 'bisa', 'mengevakuasi', 'seluruh', 'korban', 'Bapak', 'Ibu', 'tutur', 'M', 'Syaugi', 'menghentikan', 'pernyataannya', 'di', 'hadapan', 'keluarga', 'korban', 'Lion', 'Air', 'di', 'Hotel', 'Ibis', 'Cawang', 'Jakarta', 'Timur', 'Senin', 'M', 'Syaugi', 'yang', 'duduk', 'bersebelahan', 'dengan', 'Kapusdokkes', 'Polri', 'Brigjen', 'Arthur', 'Tampi', 'menyeka', 'air', 'mata', 'Brigjen', 'Arthur', 'sempat', 'membuka', 'sebotol', 'air', 'mineral', 'untuk', 'Syaugi', 'Terima', 'kasih', 'kepada', 'Bapak', 'Ibu', 'sekalian', 'yang', 'begitu', 'perhatian', 'dengan', 'kami', 'khususnya', 'tim', 'SAR', 'gabungan', 'Kami', 'memahami', 'kami', 'bukan', 'manusia', 'super', 'yang', 'sempurna', 'Kami', 'tetap', 'berusaha', 'sekuat', 'tenaga', 'Dengan', 'apa', 'yang', 'kami', 'miliki', 'kami', 'yakin', 'bisa', 'mengevakuasi', 'seluruh', 'korban', 'Bapak', 'Ibu', 'sambungnya', 'kembali', 'terdiam', 'Saya', 'di', 'lapangan', 'di', 'laut', 'maaf', 'untuk', 'melakukan', 'pencarian', 'ini', 'Saya', 'tidak', 'menyerah', 'tegas', 'Syaugi', 'lantang', 'disambut', 'tepuk', 'tangan', 'keluarga', 'korban', 'yang', 'hadir', 'Syaugi', 'memastikan', 'tim', 'SAR', 'gabungan', 'mengoptimalkan', 'pencarian', 'yang', 'diperpanjang', 'tiga', 'hari', 'sejak', 'Minggu', 'Operasi', 'pencarian', 'diprioritaskan', 'terhadap', 'evakuasi', 'korban', 'Mudah', 'mudahan', 'dengan', 'waktu', 'yang', 'ada', 'ini', 'kami', 'tetap', 'all', 'out', 'walaupun', 'sampai', 'hari', 'nanti', 'Kalaupun', 'masih', 'ada', 'kemungkinan', 'untuk', 'bisa', 'ditemukan', 'saya', 'yakin', 'bawah', 'saya', 'terus', 'mencari', 'saudara', 'saudara', 'korban', 'Kami', 'mohon', 'doanya', 'kepada', 'Bapak', 'Ibu', 'sekalian', 'untuk', 'kita', 'bisa', 'kuat', 'melakukan', 'tugas', 'tugas', 'yang', 'mulia', 'ini', 'papar', 'Syaugi', 'Baca', 'juga', 'KNKT', 'akan', 'Periksa', 'Pilot', 'Lion', 'Air', 'soal', 'Airspeed', 'Indicator', 'Rusak', 'Dalam', 'pertemuan', 'dengan', 'Kabasarnas', 'Menhub', 'KNKT', 'perwakilan', 'Polri', 'dan', 'KNKT', 'keluarga', 'korban', 'menyoroti', 'manajemen', 'Lion', 'Air', 'Kabar', 'ditemukannya', 'masalah', 'Lion', 'Air', 'PK', 'LQP', 'di', 'Denpasar', 'sehari', 'sebelum', 'jatuh', 'di', 'perairan', 'Karawang', 'diminta', 'diinvestigasi', 'Kami', 'dapat', 'informasi', 'benar', 'atau', 'tidak', 'benar', 'atau', 'tidak', 'kalau', 'pesawat', 'ini', 'sudah', 'trouble', 'di', 'Bandara', 'Ngurah', 'Rai', 'kemudian', 'ada', 'perbaikan', 'Apakah', 'perbaikan', 'itu', 'sudah', 'clear', 'kata', 'M', 'Bambang', 'Sukandar', 'ayah', 'penumpang', 'Lion', 'Air', 'Panky', 'Pradana', 'Sukandar', 'di', 'Hotel', 'Ibis', 'Cawang', 'Jakarta', 'Timur', 'Senin', 'Bambang', 'meminta', 'pertanggungjawaban', 'teknisi', 'Lion', 'Air', 'Dia', 'menuntut', 'pihak', 'Lion', 'Air', 'menjelaskan', 'secara', 'rinci', 'persoalan', 'pesawat', 'PK', 'LQP', 'saat', 'terbang', 'dari', 'Bandara', 'Ngurah', 'Rai', 'menuju', 'Bandara', 'Soekarno', 'Hatta', 'Cengkareng', 'Nyawa', 'seratusan', 'itu', 'harus', 'dipertanggungjawabkan', 'Hukumnya', 'mutlak', 'karena', 'menyatakan', 'pesawat', 'clear', 'untuk', 'take', 'off', 'Kami', 'mohon', 'dengan', 'hormat', 'peristiwa', 'ini', 'jangan', 'sampai', 'terjadi', 'Tolong', 'proses', 'hukum', 'teknisi', 'teknisi', 'yang', 'tidak', 'benar', 'sambungnya', 'Sementara', 'itu', 'fakta', 'terbaru', 'dari', 'jatuhnya', 'Lion', 'Air', 'PK', 'LQP', 'terungkap', 'Salah', 'satunya', 'adalah', 'rusaknya', 'airspeed', 'indicator', 'di', 'pesawat', 'itu', 'pada', 'empat', 'penerbangan', 'terakhir']\n"
     ]
    }
   ],
   "source": [
    "import nltk, re, string, collections\n",
    "from nltk.tokenize import RegexpTokenizer\n",
    "from nltk.util import ngrams\n",
    "\n",
    "tokenizer = RegexpTokenizer(\"[a-zA-Z'`]+\")\n",
    "file_content = open(\"/home/khamal/berita.txt\").read()\n",
    "print tokenizer.tokenize(file_content)\n",
    "tokenized = tokenizer.tokenize(file_content)"
   ]
  },
  {
   "cell_type": "code",
   "execution_count": 19,
   "metadata": {},
   "outputs": [
    {
     "data": {
      "text/plain": [
       "[(('Lion', 'Air'), 15),\n",
       " (('usia', 'tahun'), 13),\n",
       " (('tahun', 'melalui'), 13),\n",
       " (('pemeriksaan', 'DNA'), 9),\n",
       " (('melalui', 'pemeriksaan'), 9),\n",
       " (('laki', 'laki'), 7),\n",
       " (('laki', 'usia'), 7),\n",
       " (('sidik', 'jari'), 6),\n",
       " (('perempuan', 'usia'), 6),\n",
       " (('PK', 'LQP'), 6),\n",
       " (('melalui', 'sidik'), 5),\n",
       " (('di', 'RS'), 5),\n",
       " (('Bapak', 'Ibu'), 5),\n",
       " (('Air', 'PK'), 5),\n",
       " (('RS', 'Polri'), 5),\n",
       " (('korban', 'Lion'), 5),\n",
       " (('Jakarta', 'Timur'), 4),\n",
       " (('Timur', 'Senin'), 4),\n",
       " (('keluarga', 'korban'), 4),\n",
       " (('bagian', 'tubuh'), 3),\n",
       " (('Selain', 'itu'), 3),\n",
       " (('M', 'Syaugi'), 3),\n",
       " (('SAR', 'gabungan'), 3),\n",
       " (('perairan', 'Karawang'), 3),\n",
       " (('hari', 'ini'), 3),\n",
       " (('yang', 'ada'), 3),\n",
       " (('yang', 'teridentifikasi'), 3),\n",
       " (('Ibu', 'sekalian'), 3),\n",
       " (('di', 'perairan'), 3),\n",
       " (('kita', 'sudah'), 3)]"
      ]
     },
     "execution_count": 19,
     "metadata": {},
     "output_type": "execute_result"
    }
   ],
   "source": [
    "esBigrams = ngrams(tokenized, 2)\n",
    "\n",
    "# get the frequency of each bigram in our corpus\n",
    "esBigramFreq = collections.Counter(esBigrams)\n",
    "\n",
    "# what are the ten most popular ngrams in this Spanish corpus?\n",
    "esBigramFreq.most_common(30)"
   ]
  },
  {
   "cell_type": "code",
   "execution_count": null,
   "metadata": {},
   "outputs": [],
   "source": []
  }
 ],
 "metadata": {
  "kernelspec": {
   "display_name": "Python 2",
   "language": "python",
   "name": "python2"
  },
  "language_info": {
   "codemirror_mode": {
    "name": "ipython",
    "version": 2
   },
   "file_extension": ".py",
   "mimetype": "text/x-python",
   "name": "python",
   "nbconvert_exporter": "python",
   "pygments_lexer": "ipython2",
   "version": "2.7.15rc1"
  }
 },
 "nbformat": 4,
 "nbformat_minor": 2
}
